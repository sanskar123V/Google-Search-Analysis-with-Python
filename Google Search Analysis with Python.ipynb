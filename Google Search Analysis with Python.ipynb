{
 "cells": [
  {
   "cell_type": "code",
   "execution_count": 3,
   "id": "39381b23",
   "metadata": {},
   "outputs": [
    {
     "name": "stdout",
     "output_type": "stream",
     "text": [
      "Requirement already satisfied: pytrends in c:\\users\\asus\\anaconda3\\lib\\site-packages (4.9.2)\n",
      "Requirement already satisfied: requests>=2.0 in c:\\users\\asus\\anaconda3\\lib\\site-packages (from pytrends) (2.32.3)\n",
      "Requirement already satisfied: pandas>=0.25 in c:\\users\\asus\\anaconda3\\lib\\site-packages (from pytrends) (1.5.3)\n",
      "Requirement already satisfied: lxml in c:\\users\\asus\\anaconda3\\lib\\site-packages (from pytrends) (4.9.2)\n",
      "Requirement already satisfied: python-dateutil>=2.8.1 in c:\\users\\asus\\anaconda3\\lib\\site-packages (from pandas>=0.25->pytrends) (2.8.2)\n",
      "Requirement already satisfied: pytz>=2020.1 in c:\\users\\asus\\anaconda3\\lib\\site-packages (from pandas>=0.25->pytrends) (2022.7)\n",
      "Requirement already satisfied: numpy>=1.21.0 in c:\\users\\asus\\anaconda3\\lib\\site-packages (from pandas>=0.25->pytrends) (1.26.4)\n",
      "Requirement already satisfied: charset-normalizer<4,>=2 in c:\\users\\asus\\anaconda3\\lib\\site-packages (from requests>=2.0->pytrends) (2.0.4)\n",
      "Requirement already satisfied: idna<4,>=2.5 in c:\\users\\asus\\anaconda3\\lib\\site-packages (from requests>=2.0->pytrends) (3.4)\n",
      "Requirement already satisfied: urllib3<3,>=1.21.1 in c:\\users\\asus\\anaconda3\\lib\\site-packages (from requests>=2.0->pytrends) (1.26.16)\n",
      "Requirement already satisfied: certifi>=2017.4.17 in c:\\users\\asus\\anaconda3\\lib\\site-packages (from requests>=2.0->pytrends) (2023.5.7)\n",
      "Requirement already satisfied: six>=1.5 in c:\\users\\asus\\anaconda3\\lib\\site-packages (from python-dateutil>=2.8.1->pandas>=0.25->pytrends) (1.16.0)\n"
     ]
    }
   ],
   "source": [
    "!pip install pytrends"
   ]
  },
  {
   "cell_type": "code",
   "execution_count": 18,
   "id": "dc8a58cb",
   "metadata": {},
   "outputs": [],
   "source": [
    "import pandas as pd\n",
    "from pytrends.request import TrendReq\n",
    "import matplotlib.pyplot as plt\n",
    "import time"
   ]
  },
  {
   "cell_type": "code",
   "execution_count": 19,
   "id": "eae134f6",
   "metadata": {},
   "outputs": [],
   "source": [
    "def plot_trends(keyword):\n",
    "    trends = TrendReq()\n",
    "\n",
    "    # Build payload for the specified keyword\n",
    "    trends.build_payload(kw_list=[keyword])\n",
    "    \n",
    "    # Get interest by region with retry mechanism\n",
    "    retries = 5\n",
    "    for i in range(retries):\n",
    "        try:\n",
    "            data_region = trends.interest_by_region()\n",
    "            break\n",
    "        except Exception as e:\n",
    "            if i < retries - 1:  # i is zero indexed\n",
    "                time.sleep(5)  # wait for 5 seconds before retrying\n",
    "            else:\n",
    "                print(\"Failed to get data after several retries\")\n",
    "                raise e\n",
    "    \n",
    "    data_region = data_region.sort_values(by=keyword, ascending=False)\n",
    "    data_region = data_region.head(10)\n",
    "    \n",
    "    # Plot interest by region\n",
    "    data_region.reset_index().plot(x='geoName', y=keyword, figsize=(15, 8), kind='bar', legend=False)\n",
    "    plt.style.use('fivethirtyeight')\n",
    "    plt.title(f'Top 10 Regions for {keyword}', fontweight='bold')\n",
    "    plt.xlabel('Region')\n",
    "    plt.ylabel('Interest')\n",
    "    plt.show()\n",
    "    \n",
    "    # Get interest over time with retry mechanism\n",
    "    for i in range(retries):\n",
    "        try:\n",
    "            data_time = trends.interest_over_time()\n",
    "            break\n",
    "        except Exception as e:\n",
    "            if i < retries - 1:  # i is zero indexed\n",
    "                time.sleep(5)  # wait for 5 seconds before retrying\n",
    "            else:\n",
    "                print(\"Failed to get data after several retries\")\n",
    "                raise e\n",
    "    \n",
    "    # Plot interest over time\n",
    "    fig, ax = plt.subplots(figsize=(15, 8))\n",
    "    data_time[keyword].plot()\n",
    "    plt.style.use('fivethirtyeight')\n",
    "    plt.title(f'Total Google Searches for {keyword}', fontweight='bold')\n",
    "    plt.xlabel('Year')\n",
    "    plt.ylabel('Total Count')\n",
    "    plt.show()"
   ]
  },
  {
   "cell_type": "code",
   "execution_count": 22,
   "id": "5a604398",
   "metadata": {},
   "outputs": [
    {
     "name": "stdout",
     "output_type": "stream",
     "text": [
      "Enter the keyword to search trends for: Earth\n",
      "Failed to get data after several retries\n"
     ]
    },
    {
     "ename": "TooManyRequestsError",
     "evalue": "The request failed: Google returned a response with code 429",
     "output_type": "error",
     "traceback": [
      "\u001b[1;31m---------------------------------------------------------------------------\u001b[0m",
      "\u001b[1;31mTooManyRequestsError\u001b[0m                      Traceback (most recent call last)",
      "Cell \u001b[1;32mIn[22], line 2\u001b[0m\n\u001b[0;32m      1\u001b[0m keyword \u001b[38;5;241m=\u001b[39m \u001b[38;5;28minput\u001b[39m(\u001b[38;5;124m\"\u001b[39m\u001b[38;5;124mEnter the keyword to search trends for: \u001b[39m\u001b[38;5;124m\"\u001b[39m)\n\u001b[1;32m----> 2\u001b[0m plot_trends(keyword)\n",
      "Cell \u001b[1;32mIn[19], line 18\u001b[0m, in \u001b[0;36mplot_trends\u001b[1;34m(keyword)\u001b[0m\n\u001b[0;32m     16\u001b[0m         \u001b[38;5;28;01melse\u001b[39;00m:\n\u001b[0;32m     17\u001b[0m             \u001b[38;5;28mprint\u001b[39m(\u001b[38;5;124m\"\u001b[39m\u001b[38;5;124mFailed to get data after several retries\u001b[39m\u001b[38;5;124m\"\u001b[39m)\n\u001b[1;32m---> 18\u001b[0m             \u001b[38;5;28;01mraise\u001b[39;00m e\n\u001b[0;32m     20\u001b[0m data_region \u001b[38;5;241m=\u001b[39m data_region\u001b[38;5;241m.\u001b[39msort_values(by\u001b[38;5;241m=\u001b[39mkeyword, ascending\u001b[38;5;241m=\u001b[39m\u001b[38;5;28;01mFalse\u001b[39;00m)\n\u001b[0;32m     21\u001b[0m data_region \u001b[38;5;241m=\u001b[39m data_region\u001b[38;5;241m.\u001b[39mhead(\u001b[38;5;241m10\u001b[39m)\n",
      "Cell \u001b[1;32mIn[19], line 11\u001b[0m, in \u001b[0;36mplot_trends\u001b[1;34m(keyword)\u001b[0m\n\u001b[0;32m      9\u001b[0m \u001b[38;5;28;01mfor\u001b[39;00m i \u001b[38;5;129;01min\u001b[39;00m \u001b[38;5;28mrange\u001b[39m(retries):\n\u001b[0;32m     10\u001b[0m     \u001b[38;5;28;01mtry\u001b[39;00m:\n\u001b[1;32m---> 11\u001b[0m         data_region \u001b[38;5;241m=\u001b[39m trends\u001b[38;5;241m.\u001b[39minterest_by_region()\n\u001b[0;32m     12\u001b[0m         \u001b[38;5;28;01mbreak\u001b[39;00m\n\u001b[0;32m     13\u001b[0m     \u001b[38;5;28;01mexcept\u001b[39;00m \u001b[38;5;167;01mException\u001b[39;00m \u001b[38;5;28;01mas\u001b[39;00m e:\n",
      "File \u001b[1;32m~\\anaconda3\\Lib\\site-packages\\pytrends\\request.py:340\u001b[0m, in \u001b[0;36mTrendReq.interest_by_region\u001b[1;34m(self, resolution, inc_low_vol, inc_geo_code)\u001b[0m\n\u001b[0;32m    337\u001b[0m region_payload[\u001b[38;5;124m'\u001b[39m\u001b[38;5;124mtz\u001b[39m\u001b[38;5;124m'\u001b[39m] \u001b[38;5;241m=\u001b[39m \u001b[38;5;28mself\u001b[39m\u001b[38;5;241m.\u001b[39mtz\n\u001b[0;32m    339\u001b[0m \u001b[38;5;66;03m# parse returned json\u001b[39;00m\n\u001b[1;32m--> 340\u001b[0m req_json \u001b[38;5;241m=\u001b[39m \u001b[38;5;28mself\u001b[39m\u001b[38;5;241m.\u001b[39m_get_data(\n\u001b[0;32m    341\u001b[0m     url\u001b[38;5;241m=\u001b[39mTrendReq\u001b[38;5;241m.\u001b[39mINTEREST_BY_REGION_URL,\n\u001b[0;32m    342\u001b[0m     method\u001b[38;5;241m=\u001b[39mTrendReq\u001b[38;5;241m.\u001b[39mGET_METHOD,\n\u001b[0;32m    343\u001b[0m     trim_chars\u001b[38;5;241m=\u001b[39m\u001b[38;5;241m5\u001b[39m,\n\u001b[0;32m    344\u001b[0m     params\u001b[38;5;241m=\u001b[39mregion_payload,\n\u001b[0;32m    345\u001b[0m )\n\u001b[0;32m    346\u001b[0m df \u001b[38;5;241m=\u001b[39m pd\u001b[38;5;241m.\u001b[39mDataFrame(req_json[\u001b[38;5;124m'\u001b[39m\u001b[38;5;124mdefault\u001b[39m\u001b[38;5;124m'\u001b[39m][\u001b[38;5;124m'\u001b[39m\u001b[38;5;124mgeoMapData\u001b[39m\u001b[38;5;124m'\u001b[39m])\n\u001b[0;32m    347\u001b[0m \u001b[38;5;28;01mif\u001b[39;00m (df\u001b[38;5;241m.\u001b[39mempty):\n",
      "File \u001b[1;32m~\\anaconda3\\Lib\\site-packages\\pytrends\\request.py:159\u001b[0m, in \u001b[0;36mTrendReq._get_data\u001b[1;34m(self, url, method, trim_chars, **kwargs)\u001b[0m\n\u001b[0;32m    157\u001b[0m \u001b[38;5;28;01melse\u001b[39;00m:\n\u001b[0;32m    158\u001b[0m     \u001b[38;5;28;01mif\u001b[39;00m response\u001b[38;5;241m.\u001b[39mstatus_code \u001b[38;5;241m==\u001b[39m status_codes\u001b[38;5;241m.\u001b[39mcodes\u001b[38;5;241m.\u001b[39mtoo_many_requests:\n\u001b[1;32m--> 159\u001b[0m         \u001b[38;5;28;01mraise\u001b[39;00m exceptions\u001b[38;5;241m.\u001b[39mTooManyRequestsError\u001b[38;5;241m.\u001b[39mfrom_response(response)\n\u001b[0;32m    160\u001b[0m     \u001b[38;5;28;01mraise\u001b[39;00m exceptions\u001b[38;5;241m.\u001b[39mResponseError\u001b[38;5;241m.\u001b[39mfrom_response(response)\n",
      "\u001b[1;31mTooManyRequestsError\u001b[0m: The request failed: Google returned a response with code 429"
     ]
    }
   ],
   "source": [
    "keyword = input(\"Enter the keyword to search trends for: \")\n",
    "plot_trends(keyword)"
   ]
  },
  {
   "cell_type": "code",
   "execution_count": null,
   "id": "ab1d6943",
   "metadata": {},
   "outputs": [],
   "source": []
  }
 ],
 "metadata": {
  "kernelspec": {
   "display_name": "Python 3 (ipykernel)",
   "language": "python",
   "name": "python3"
  },
  "language_info": {
   "codemirror_mode": {
    "name": "ipython",
    "version": 3
   },
   "file_extension": ".py",
   "mimetype": "text/x-python",
   "name": "python",
   "nbconvert_exporter": "python",
   "pygments_lexer": "ipython3",
   "version": "3.11.3"
  }
 },
 "nbformat": 4,
 "nbformat_minor": 5
}
